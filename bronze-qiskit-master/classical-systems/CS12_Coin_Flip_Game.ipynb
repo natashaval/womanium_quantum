{
 "cells": [
  {
   "cell_type": "markdown",
   "metadata": {},
   "source": [
    "<a href=\"https://qworld.net\" target=\"_blank\" align=\"left\"><img src=\"../qworld/images/header.jpg\"  align=\"left\"></a>\n",
    "$ \\newcommand{\\bra}[1]{\\langle #1|} $\n",
    "$ \\newcommand{\\ket}[1]{|#1\\rangle} $\n",
    "$ \\newcommand{\\braket}[2]{\\langle #1|#2\\rangle} $\n",
    "$ \\newcommand{\\dot}[2]{ #1 \\cdot #2} $\n",
    "$ \\newcommand{\\biginner}[2]{\\left\\langle #1,#2\\right\\rangle} $\n",
    "$ \\newcommand{\\mymatrix}[2]{\\left( \\begin{array}{#1} #2\\end{array} \\right)} $\n",
    "$ \\newcommand{\\myvector}[1]{\\mymatrix{c}{#1}} $\n",
    "$ \\newcommand{\\myrvector}[1]{\\mymatrix{r}{#1}} $\n",
    "$ \\newcommand{\\mypar}[1]{\\left( #1 \\right)} $\n",
    "$ \\newcommand{\\mybigpar}[1]{ \\Big( #1 \\Big)} $\n",
    "$ \\newcommand{\\sqrttwo}{\\frac{1}{\\sqrt{2}}} $\n",
    "$ \\newcommand{\\dsqrttwo}{\\dfrac{1}{\\sqrt{2}}} $\n",
    "$ \\newcommand{\\onehalf}{\\frac{1}{2}} $\n",
    "$ \\newcommand{\\donehalf}{\\dfrac{1}{2}} $\n",
    "$ \\newcommand{\\hadamard}{ \\mymatrix{rr}{ \\sqrttwo & \\sqrttwo \\\\ \\sqrttwo & -\\sqrttwo }} $\n",
    "$ \\newcommand{\\vzero}{\\myvector{1\\\\0}} $\n",
    "$ \\newcommand{\\vone}{\\myvector{0\\\\1}} $\n",
    "$ \\newcommand{\\stateplus}{\\myvector{ \\sqrttwo \\\\  \\sqrttwo } } $\n",
    "$ \\newcommand{\\stateminus}{ \\myrvector{ \\sqrttwo \\\\ -\\sqrttwo } } $\n",
    "$ \\newcommand{\\myarray}[2]{ \\begin{array}{#1}#2\\end{array}} $\n",
    "$ \\newcommand{\\X}{ \\mymatrix{cc}{0 & 1 \\\\ 1 & 0}  } $\n",
    "$ \\newcommand{\\I}{ \\mymatrix{rr}{1 & 0 \\\\ 0 & 1}  } $\n",
    "$ \\newcommand{\\Z}{ \\mymatrix{rr}{1 & 0 \\\\ 0 & -1}  } $\n",
    "$ \\newcommand{\\Htwo}{ \\mymatrix{rrrr}{ \\frac{1}{2} & \\frac{1}{2} & \\frac{1}{2} & \\frac{1}{2} \\\\ \\frac{1}{2} & -\\frac{1}{2} & \\frac{1}{2} & -\\frac{1}{2} \\\\ \\frac{1}{2} & \\frac{1}{2} & -\\frac{1}{2} & -\\frac{1}{2} \\\\ \\frac{1}{2} & -\\frac{1}{2} & -\\frac{1}{2} & \\frac{1}{2} } } $\n",
    "$ \\newcommand{\\CNOT}{ \\mymatrix{cccc}{1 & 0 & 0 & 0 \\\\ 0 & 1 & 0 & 0 \\\\ 0 & 0 & 0 & 1 \\\\ 0 & 0 & 1 & 0} } $\n",
    "$ \\newcommand{\\norm}[1]{ \\left\\lVert #1 \\right\\rVert } $\n",
    "$ \\newcommand{\\pstate}[1]{ \\lceil \\mspace{-1mu} #1 \\mspace{-1.5mu} \\rfloor } $\n",
    "$ \\newcommand{\\greenbit}[1] {\\mathbf{{\\color{green}#1}}} $\n",
    "$ \\newcommand{\\bluebit}[1] {\\mathbf{{\\color{blue}#1}}} $\n",
    "$ \\newcommand{\\redbit}[1] {\\mathbf{{\\color{red}#1}}} $\n",
    "$ \\newcommand{\\brownbit}[1] {\\mathbf{{\\color{brown}#1}}} $\n",
    "$ \\newcommand{\\blackbit}[1] {\\mathbf{{\\color{black}#1}}} $"
   ]
  },
  {
   "cell_type": "markdown",
   "metadata": {},
   "source": [
    "<font style=\"font-size:28px;\" align=\"left\"><b> A Game with two biased coins  </b></font>\n",
    "<br>\n",
    "_prepared by Abuzer Yakaryilmaz_\n",
    "<br><br>\n",
    "[<img src=\"../qworld/images/watch_lecture.jpg\" align=\"left\">](https://youtu.be/k0OJvv7AAgU)\n",
    "<br><br><br>"
   ]
  },
  {
   "cell_type": "markdown",
   "metadata": {},
   "source": [
    "## Probabilistic bits\n",
    "\n",
    "We start with a short introduction to the probabilistic bits to trace the details of the game below.\n",
    "\n",
    "Suppose that we have a biased coin landing on heads with probability $ 0.3 $, and it is tossed once but we do not see the outcome.\n",
    "\n",
    "Even though it lands on either heads or tails, our information about the outcome is probabilistic: It is heads with probability $ 0.3 $ and tails with probablity $ 0.7 $. \n",
    "\n",
    "If we consider this coin as a system with two states (heads and tails: respectively, states 0 and 1), then we can say that after one iteration it is in states 0 and 1 with probabilities 0.3 and 0.7, respectively.\n",
    "\n",
    "In general, a probabilistic bit is in states 0 and 1 with probabilities $ p $ and $ 1-p $, where $ p $ is a number between 0 and 1. Remark that if $  p=1 $ or $ p=0 $, then the bit becomes deterministic.\n",
    "\n",
    "If the above biased coin is tossed once more, the probabilisties of the getting heads and tails (or being in the states in 0 and 1) will still be the same. In the following game, by using two biased-coins, we will be able to have different probabilities for the states 0 and 1. This game is our first step to define a probabilitic operator for probabilistic bits."
   ]
  },
  {
   "cell_type": "markdown",
   "metadata": {},
   "source": [
    "## The game"
   ]
  },
  {
   "cell_type": "markdown",
   "metadata": {},
   "source": [
    "Our friend Asja has one euro and one cent. \n",
    "\n",
    "Both coins are biased, and the probabilities of getting heads and tails are as follows:\n",
    "<ul>\n",
    "    <li> one euro: heads with probability $ 0.6 $ and tails with probability $ 0.4 $. </li>\n",
    "    <li> one cent: heads with probability $ 0.3 $ and tails with probability $ 0.7 $. </li>\n",
    "</ul>\n",
    "\n",
    "Asja flips her coins based on the following <b>protocol</b>: \n",
    "<ol> \n",
    "    <li> she starts with flipping one euro[*]; </li>\n",
    "    <li> whenever she gets heads, she flips one euro in the next round; and, </li>\n",
    "    <li> whenever she gets tails, she flips one cent in the next round. </li>\n",
    "</ol>\n",
    "\n",
    "By using a single bit, we summarize all transitions of this game as follows:\n",
    "\n",
    "$\n",
    "GameCoins = \\begin{array}{c|cc} \\hookleftarrow & \\mathbf{Head} & \\mathbf{Tail} \\\\ \\hline \\mathbf{Head} & 0.6 & 0.3\\\\  \\mathbf{Tail} & 0.4 & 0.7  \\end{array} = \\begin{array}{c|cc} \\hookleftarrow & \\mathbf{0} & \\mathbf{1} \\\\ \\hline \\mathbf{0} & 0.6 & 0.3 \\\\  \\mathbf{1} & 0.4 & 0.7  \\end{array}\n",
    "$\n",
    "\n",
    "[*] We should fix an initial condition. Otherwise, Asja cannot pick any of the coins at the beginning of game."
   ]
  },
  {
   "cell_type": "markdown",
   "metadata": {},
   "source": [
    "<h3>Task 1: Convince yourself </h3>\n",
    "\n",
    "Convince yourself about the correctness of transitions given in the table.\n",
    "\n",
    "<i> Remark that there is no difference between getting heads from the one euro coin or from the one cent coin.\n",
    "    \n",
    "Therefore, one bit is enough to represent all transitions.\n",
    "</i>"
   ]
  },
  {
   "cell_type": "markdown",
   "metadata": {},
   "source": [
    "<h3> Tracing Asja's three coin tosses </h3>\n",
    "\n",
    "Suppose that Asja <b>secretly</b> tosses her coins based on the defined protocol.\n",
    "\n",
    "By using python, we can calculate the probabilities of Asja seeing heads and tails after three coin tosses.\n",
    "\n",
    "<i><b>Remark:</b> In the previous tasks of [Coin Flipping](B06_Coin_Flip.ipynb), we know the ideal ratios, and we experiment many coin tosses and then expect to observe the results close to the ideal ratios.\n",
    "    \n",
    "Here we calculate the exact probabilities (the ideal ratio) by using python. (We will not do the experiments as in the previous tasks.)\n",
    "</i>\n",
    "\n",
    "We present our solution step by step."
   ]
  },
  {
   "cell_type": "code",
   "execution_count": 7,
   "metadata": {},
   "outputs": [
    {
     "name": "stdout",
     "output_type": "stream",
     "text": [
      "first round: 0.6 0.4\n",
      "second round: 0.48 0.52\n",
      "third round: 0.44399999999999995 0.556\n",
      "the probability of getting head after 3 coin tosses is 0.44399999999999995\n",
      "the probability of getting tail after 3 coin tosses is 0.556\n"
     ]
    }
   ],
   "source": [
    "#\n",
    "# OUR SOLUTION\n",
    "#\n",
    "\n",
    "# initial condition:\n",
    "# Asja will start with one euro,\n",
    "#    and so, we assume that the probability of having head is 1 at the beginning.\n",
    "prob_head = 1\n",
    "prob_tail = 0\n",
    "\n",
    "#\n",
    "# first coin-flip\n",
    "#\n",
    "\n",
    "# the new probability of head is calculated by using the first row of table\n",
    "new_prob_head = prob_head * 0.6 + prob_tail * 0.3\n",
    "\n",
    "# the new probability of tail is calculated by using the second row of the table\n",
    "new_prob_tail = prob_head * 0.4 + prob_tail * 0.7\n",
    "\n",
    "# update the probabilities for the second round\n",
    "prob_head = new_prob_head\n",
    "prob_tail = new_prob_tail\n",
    "print(\"first round:\",prob_head, prob_tail)\n",
    "\n",
    "#\n",
    "# second coin-flip\n",
    "#\n",
    "# we do the same calculations\n",
    "\n",
    "new_prob_head = prob_head * 0.6 + prob_tail * 0.3\n",
    "new_prob_tail = prob_head * 0.4 + prob_tail * 0.7\n",
    "\n",
    "prob_head = new_prob_head\n",
    "prob_tail = new_prob_tail\n",
    "print(\"second round:\",prob_head, prob_tail)\n",
    "\n",
    "#\n",
    "# third coin-flip\n",
    "#\n",
    "# we do the same calculations\n",
    "\n",
    "new_prob_head = prob_head * 0.6 + prob_tail * 0.3\n",
    "new_prob_tail = prob_head * 0.4 + prob_tail * 0.7\n",
    "\n",
    "prob_head = new_prob_head\n",
    "prob_tail = new_prob_tail\n",
    "print(\"third round:\",prob_head, prob_tail)\n",
    "\n",
    "# print prob_head and prob_tail\n",
    "print(\"the probability of getting head after 3 coin tosses is\",prob_head)\n",
    "print(\"the probability of getting tail after 3 coin tosses is\",prob_tail)"
   ]
  },
  {
   "cell_type": "markdown",
   "metadata": {},
   "source": [
    "<h3> Task 2: Tracing ten biased coin tosses </h3>\n",
    "\n",
    "By using python, calculate the probabilities of Asja seeing heads and tails after 10 coin tosses.\n",
    "\n",
    "$\n",
    "GameCoins = \\begin{array}{c|cc} \\hookleftarrow & \\mathbf{Head} & \\mathbf{Tail} \\\\ \\hline \\mathbf{Head} & 0.6 & 0.3\\\\  \\mathbf{Tail} & 0.4 & 0.7  \\end{array} = \\begin{array}{c|cc} \\hookleftarrow & \\mathbf{0} & \\mathbf{1} \\\\ \\hline \\mathbf{0} & 0.6 & 0.3 \\\\  \\mathbf{1} & 0.4 & 0.7  \\end{array}\n",
    "$\n",
    "\n",
    "Use a loop in your solution."
   ]
  },
  {
   "cell_type": "code",
   "execution_count": 18,
   "metadata": {},
   "outputs": [
    {
     "name": "stdout",
     "output_type": "stream",
     "text": [
      "(0.6, 0.4)\n",
      "(0.42857480279999977, 0.5714251971999997)\n",
      "0.4 0.6\n"
     ]
    }
   ],
   "source": [
    "def count_prob(a, b):\n",
    "    prob_head = a * 0.6 + b * 0.3\n",
    "    prob_tail = a * 0.4 + b * 0.7\n",
    "    return (prob_head, prob_tail)\n",
    "\n",
    "print(count_prob(1, 0))\n",
    "\n",
    "new_prob = count_prob(1, 0)\n",
    "for i in range(9):\n",
    "    new_prob = count_prob(new_prob[0], new_prob[1])\n",
    "\n",
    "print(new_prob)\n",
    "print(\"{:.1f} {:.1f}\".format(new_prob[0], new_prob[1]))"
   ]
  },
  {
   "cell_type": "markdown",
   "metadata": {},
   "source": [
    "<a href=\"CS12_Coin_Flip_Game_Solutions.ipynb#task2\">click for our solution</a>"
   ]
  },
  {
   "cell_type": "markdown",
   "metadata": {},
   "source": [
    "<h3> Task 3</h3>\n",
    "\n",
    "Repeat Task 2 for 20, 30, and 50 coin tosses."
   ]
  },
  {
   "cell_type": "code",
   "execution_count": 28,
   "metadata": {},
   "outputs": [
    {
     "name": "stdout",
     "output_type": "stream",
     "text": [
      "iteration 20 probability of head: 0.31034484770573545 probability of tail: 0.41379309137655823\n",
      "iteration 30 probability of head: 0.310344827589643 probability of tail: 0.4137931034462135\n",
      "iteration 50 probability of head: 0.3103448275862064 probability of tail: 0.41379310344827513\n"
     ]
    }
   ],
   "source": [
    "iterations = [20, 30, 50]\n",
    "for iteration in iterations:\n",
    "    prob_head = 1\n",
    "    prob_tail = 0\n",
    "    for j in range(iteration):\n",
    "        prob_head = prob_head * 0.6 + prob_tail * 0.3\n",
    "        prob_tail = prob_head * 0.4 + prob_tail * 0.7\n",
    "    print(\"iteration\", iteration, \"probability of head:\", prob_head, \"probability of tail:\", prob_tail)"
   ]
  },
  {
   "cell_type": "markdown",
   "metadata": {},
   "source": [
    "<a href=\"CS12_Coin_Flip_Game_Solutions.ipynb#task3\">click for our solution</a>"
   ]
  },
  {
   "cell_type": "markdown",
   "metadata": {},
   "source": [
    "<h3> Task 4</h3>\n",
    "\n",
    "Repeat Task 2 for 10, 20, and 50 coin tosses by picking different initial conditions, e.g., \n",
    "    \n",
    "    prob_head = prob_tail = 1/2\n",
    "or\n",
    "    \n",
    "    prob_head = 0 \n",
    "    prob_tail = 1"
   ]
  },
  {
   "cell_type": "code",
   "execution_count": 38,
   "metadata": {},
   "outputs": [
    {
     "name": "stdout",
     "output_type": "stream",
     "text": [
      "Probability head 0.5 and tail 0.5\n",
      "iteration 10 probability of head: 0.4285718503499998 probability of tail: 0.5714281496499998\n",
      "iteration 20 probability of head: 0.42857142857391883 probability of tail: 0.5714285714260805\n",
      "iteration 50 probability of head: 0.42857142857142827 probability of tail: 0.571428571428571\n",
      "Probability head 0 and tail 1\n",
      "iteration 10 probability of head: 0.42856889789999986 probability of tail: 0.5714311020999998\n",
      "iteration 20 probability of head: 0.4285714285564849 probability of tail: 0.5714285714435143\n",
      "iteration 50 probability of head: 0.42857142857142794 probability of tail: 0.5714285714285706\n"
     ]
    }
   ],
   "source": [
    "def count_prob(initial_head, initial_tail, iteration):\n",
    "    prob_head = initial_head\n",
    "    prob_tail = initial_tail\n",
    "    for j in range(iteration):\n",
    "        prob_new_head = prob_head * 0.6 + prob_tail * 0.3\n",
    "        prob_new_tail = prob_head * 0.4 + prob_tail * 0.7\n",
    "        prob_head = prob_new_head\n",
    "        prob_tail = prob_new_tail\n",
    "    print(\"iteration\", iteration, \"probability of head:\", prob_head, \"probability of tail:\", prob_tail)\n",
    "    \n",
    "print(\"Probability head 0.5 and tail 0.5\")\n",
    "count_prob(0.5, 0.5, 10)\n",
    "count_prob(0.5, 0.5, 20)\n",
    "count_prob(0.5, 0.5, 50)\n",
    "\n",
    "print(\"Probability head 0 and tail 1\")\n",
    "count_prob(0, 1, 10)\n",
    "count_prob(0, 1, 20)\n",
    "count_prob(0, 1, 50)"
   ]
  },
  {
   "cell_type": "markdown",
   "metadata": {},
   "source": [
    "<a href=\"CS12_Coin_Flip_Game_Solutions.ipynb#task4\">click for our solution</a>"
   ]
  },
  {
   "cell_type": "markdown",
   "metadata": {},
   "source": [
    "<hr>"
   ]
  },
  {
   "cell_type": "markdown",
   "metadata": {},
   "source": [
    "<h3> Extra: Arbitrary transitions for GameCoins</h3>\n",
    "\n",
    "By changing the bias of each Asja's coin, we can define arbitrary GameCoins.\n",
    "\n",
    "If $ a $ is the probability of getting heads for one euro and $ b $ is the probability of getting heads for one cent, then we have the following transitions:\n",
    "\n",
    "$\n",
    "GameCoins(a,b) = \\begin{array}{c|cc} \\hookleftarrow & \\mathbf{Head} & \\mathbf{Tail} \\\\ \\hline \\mathbf{Head} & a & b\\\\  \\mathbf{Tail} & 1-a & 1-b  \\end{array} = \\begin{array}{c|cc} \\hookleftarrow & \\mathbf{0} & \\mathbf{1} \\\\ \\hline \\mathbf{0} & a & b \\\\  \\mathbf{1} & 1-a & 1-b  \\end{array}\n",
    "$"
   ]
  },
  {
   "cell_type": "markdown",
   "metadata": {},
   "source": [
    "<h3> Task 5 </h3>\n",
    "\n",
    "Observe that if $ a=1 $ and $ b = 0 $, then it is Identity operator, i.e., the initial condition will stay as it is.\n",
    "\n",
    "If $ a=0 $ and $ b=1 $, then it is NOT operator. NOT operator swaps the probabilities of heads and tails in each step. If the initial probabilities are not $ 0.5 $ and $ 0.5 $, then the system never converges to a fixed probabilities."
   ]
  },
  {
   "cell_type": "code",
   "execution_count": null,
   "metadata": {},
   "outputs": [],
   "source": [
    "#\n",
    "# your solution is here\n",
    "#\n"
   ]
  },
  {
   "cell_type": "markdown",
   "metadata": {},
   "source": [
    "<h3> Task 6</h3>\n",
    "\n",
    "Randomly pick the values of $ a $ and $ b $, and then implement Tasks 3 and 4 for $ GameCoins(a,b) $."
   ]
  },
  {
   "cell_type": "code",
   "execution_count": null,
   "metadata": {},
   "outputs": [],
   "source": [
    "#\n",
    "# your solution is here\n",
    "#\n"
   ]
  },
  {
   "cell_type": "markdown",
   "metadata": {},
   "source": [
    "<h3> Task 7</h3>\n",
    "\n",
    "10 times repeat Task 6 and observe whether the probabilities converge in each time."
   ]
  },
  {
   "cell_type": "code",
   "execution_count": null,
   "metadata": {},
   "outputs": [],
   "source": [
    "#\n",
    "# your solution is here\n",
    "#\n"
   ]
  },
  {
   "cell_type": "markdown",
   "metadata": {},
   "source": [
    "<h3>Task 8</h3>\n",
    "\n",
    "We can rewrite arbitrary GameCoins as \n",
    "\n",
    "$  \\begin{array}{c|cc} \\hookleftarrow & \\mathbf{Head} & \\mathbf{Tail} \\\\ \\hline \\mathbf{Head} & 1-y & x\\\\  \\mathbf{Tail} & y & 1-x  \\end{array} = \\begin{array}{c|cc} \\hookleftarrow & \\mathbf{0} & \\mathbf{1} \\\\ \\hline \\mathbf{0} & 1-y & x \\\\  \\mathbf{1} & y & 1-x  \\end{array}.\n",
    "$ \n",
    "\n",
    "We assume that it is neither Identity nor NOT operator. Then, independent of the initial state, the system always converges to \n",
    "\n",
    "$ Pr[\\mbox{\"heads\"}] = \\dfrac{x}{x+y} $ and $ Pr[\\mbox{\"tails\"}]=\\dfrac{y}{x+y} $, \n",
    "\n",
    "which are the probabilities of getting heads and tails, respectively.\n",
    "\n",
    "Observe this fact by checking the results of Task 7."
   ]
  },
  {
   "cell_type": "code",
   "execution_count": null,
   "metadata": {},
   "outputs": [],
   "source": [
    "#\n",
    "# your solution is here\n",
    "#\n"
   ]
  },
  {
   "cell_type": "code",
   "execution_count": 39,
   "metadata": {},
   "outputs": [
    {
     "name": "stdout",
     "output_type": "stream",
     "text": [
      "Probability sunny 0 and rainy 1\n",
      "0.2 0.8\n",
      "0.3600000000000001 0.64\n",
      "iteration 2 probability of sunny: 0.3600000000000001 probability of rainy: 0.64\n",
      "0.2 0.8\n",
      "0.3600000000000001 0.64\n",
      "0.328 0.6720000000000002\n",
      "iteration 3 probability of sunny: 0.328 probability of rainy: 0.6720000000000002\n"
     ]
    }
   ],
   "source": [
    "# Quiz no. 9\n",
    "def count_prob(initial_head, initial_tail, iteration):\n",
    "    prob_sunny = initial_head\n",
    "    prob_rainy = initial_tail\n",
    "    for j in range(iteration):\n",
    "        new_sunny = prob_sunny * 0.2 + prob_rainy * 0.4\n",
    "        new_rainy = prob_sunny * 0.8 + prob_rainy * 0.6\n",
    "        prob_sunny = new_sunny\n",
    "        prob_rainy = new_rainy\n",
    "        print(prob_sunny, prob_rainy)\n",
    "    print(\"iteration\", iteration, \"probability of sunny:\", prob_sunny, \"probability of rainy:\", prob_rainy)\n",
    "    \n",
    "print(\"Probability sunny 0 and rainy 1\")\n",
    "count_prob(1, 0, 2)\n",
    "count_prob(1, 0, 3)"
   ]
  }
 ],
 "metadata": {
  "kernelspec": {
   "display_name": "Python 3 (ipykernel)",
   "language": "python",
   "name": "python3"
  },
  "language_info": {
   "codemirror_mode": {
    "name": "ipython",
    "version": 3
   },
   "file_extension": ".py",
   "mimetype": "text/x-python",
   "name": "python",
   "nbconvert_exporter": "python",
   "pygments_lexer": "ipython3",
   "version": "3.9.12"
  }
 },
 "nbformat": 4,
 "nbformat_minor": 2
}
